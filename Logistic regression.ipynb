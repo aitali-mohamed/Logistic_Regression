{
 "cells": [
  {
   "cell_type": "code",
   "execution_count": null,
   "id": "7c8aa8e3",
   "metadata": {},
   "outputs": [],
   "source": [
    "import numpy as np\n",
    "import pandas as pd"
   ]
  },
  {
   "cell_type": "code",
   "execution_count": null,
   "id": "a8b8ee26",
   "metadata": {},
   "outputs": [],
   "source": [
    "data =pd.read_excel('dataset_train.xls',usecols=[1,8,9,10,11,12,13,14,17,18])"
   ]
  },
  {
   "cell_type": "code",
   "execution_count": null,
   "id": "639aebf0",
   "metadata": {},
   "outputs": [],
   "source": [
    "data"
   ]
  },
  {
   "cell_type": "markdown",
   "id": "71207a41",
   "metadata": {},
   "source": [
    "# Target encoding"
   ]
  },
  {
   "cell_type": "code",
   "execution_count": null,
   "id": "a6d20ffc",
   "metadata": {},
   "outputs": [],
   "source": [
    "from sklearn.preprocessing import LabelEncoder"
   ]
  },
  {
   "cell_type": "code",
   "execution_count": null,
   "id": "5f0634a1",
   "metadata": {},
   "outputs": [],
   "source": [
    "LE=LabelEncoder()"
   ]
  },
  {
   "cell_type": "code",
   "execution_count": null,
   "id": "e060bebd",
   "metadata": {},
   "outputs": [],
   "source": [
    "data['Hogwarts_House']=LE.fit_transform(data['Hogwarts House'])"
   ]
  },
  {
   "cell_type": "code",
   "execution_count": null,
   "id": "5087ac68",
   "metadata": {},
   "outputs": [],
   "source": [
    "data.drop('Hogwarts House',axis=1,inplace=True)"
   ]
  },
  {
   "cell_type": "code",
   "execution_count": null,
   "id": "66a7457e",
   "metadata": {},
   "outputs": [],
   "source": [
    "data"
   ]
  },
  {
   "cell_type": "code",
   "execution_count": null,
   "id": "0c9134c7",
   "metadata": {},
   "outputs": [],
   "source": [
    "data.isna().sum()"
   ]
  },
  {
   "cell_type": "code",
   "execution_count": null,
   "id": "f8315a84",
   "metadata": {},
   "outputs": [],
   "source": [
    "for i in range(0,8):\n",
    "    data[data.columns[i]].fillna(data[data.columns[i]].mean(),inplace=True)"
   ]
  },
  {
   "cell_type": "code",
   "execution_count": null,
   "id": "764d6465",
   "metadata": {},
   "outputs": [],
   "source": [
    "data.isna().sum()"
   ]
  },
  {
   "cell_type": "code",
   "execution_count": null,
   "id": "98457884",
   "metadata": {},
   "outputs": [],
   "source": [
    "data"
   ]
  },
  {
   "cell_type": "markdown",
   "id": "d766114c",
   "metadata": {},
   "source": [
    "## Normalizing inputs"
   ]
  },
  {
   "cell_type": "code",
   "execution_count": null,
   "id": "72bad7e7",
   "metadata": {},
   "outputs": [],
   "source": [
    "for i in range(9):\n",
    "    x=data[data.columns[i]]   \n",
    "    x=x-x.mean()\n",
    "    x/=np.var(x)\n",
    "    data[data.columns[i]]=x "
   ]
  },
  {
   "cell_type": "code",
   "execution_count": null,
   "id": "af5dd49e",
   "metadata": {},
   "outputs": [],
   "source": [
    "data"
   ]
  },
  {
   "cell_type": "markdown",
   "id": "ae8d437f",
   "metadata": {},
   "source": [
    "# Create multiple datasets"
   ]
  },
  {
   "cell_type": "code",
   "execution_count": null,
   "id": "0b906f2a",
   "metadata": {},
   "outputs": [],
   "source": [
    "D0=data.copy();D1=data.copy();D2=data.copy();D3=data.copy() ## D0:Gryffindor // D1:Hufflepuff // D2:Ravenclaw // D3: Slytherin"
   ]
  },
  {
   "cell_type": "code",
   "execution_count": null,
   "id": "087c8862",
   "metadata": {},
   "outputs": [],
   "source": [
    "datasets=[D0,D1,D2,D3]"
   ]
  },
  {
   "cell_type": "markdown",
   "id": "ae76ada9",
   "metadata": {},
   "source": [
    "### This cell creates individual binary datasets"
   ]
  },
  {
   "cell_type": "code",
   "execution_count": null,
   "id": "33368d25",
   "metadata": {},
   "outputs": [],
   "source": [
    "for i in range(4):\n",
    "    for j in range(1600):\n",
    "        if datasets[i].at[j,'Hogwarts_House'] == i:\n",
    "            datasets[i].at[j,'Hogwarts_House'] = 1\n",
    "        else:\n",
    "            datasets[i].at[j,'Hogwarts_House'] = 0"
   ]
  },
  {
   "cell_type": "code",
   "execution_count": null,
   "id": "53282e94",
   "metadata": {},
   "outputs": [],
   "source": [
    "D0"
   ]
  },
  {
   "cell_type": "markdown",
   "id": "fa83ac99",
   "metadata": {},
   "source": [
    "### dictionary holding dataset names as keys and their input and output splits as value pairs\n"
   ]
  },
  {
   "cell_type": "code",
   "execution_count": 20,
   "id": "c19cd25a",
   "metadata": {},
   "outputs": [],
   "source": [
    "datadict = {}  \n",
    "for i in range(4):   \n",
    "    X = datasets[i].iloc[:,:9]\n",
    "    X = X.T\n",
    "    Y = datasets[i].iloc[:,-1]\n",
    "    Y = np.array([Y])\n",
    "    datadict['D'+str(i)] = [X,Y] \n",
    "    "
   ]
  },
  {
   "cell_type": "code",
   "execution_count": 22,
   "id": "2edb6a19",
   "metadata": {},
   "outputs": [
    {
     "data": {
      "text/plain": [
       "array([[0, 0, 0, ..., 1, 0, 0]])"
      ]
     },
     "execution_count": 22,
     "metadata": {},
     "output_type": "execute_result"
    }
   ],
   "source": [
    "datadict['D0'][1]"
   ]
  },
  {
   "cell_type": "markdown",
   "id": "8851f783",
   "metadata": {},
   "source": [
    "# 1 vs All classifier "
   ]
  },
  {
   "cell_type": "code",
   "execution_count": 24,
   "id": "5fed6b37",
   "metadata": {},
   "outputs": [],
   "source": [
    "def sigmoid(x):\n",
    "    sig = (1 / (1 + np.exp(-x)))     # Define sigmoid function\n",
    "    return sig"
   ]
  },
  {
   "cell_type": "code",
   "execution_count": 25,
   "id": "08b91707",
   "metadata": {},
   "outputs": [
    {
     "name": "stdout",
     "output_type": "stream",
     "text": [
      "Training for dataset 0\n",
      "running @  0.07922984684444988\n",
      "running @  0.06581356208891465\n",
      "running @  0.061760598859617315\n",
      "running @  0.05986794245784648\n",
      "itteration number: 9422\n",
      "Training for dataset 1\n",
      "running @  0.17756540365127088\n",
      "running @  0.13187522071962096\n",
      "running @  0.11431171812068655\n",
      "running @  0.10513098190825332\n",
      "running @  0.09953762202937796\n",
      "running @  0.09579625949131185\n",
      "running @  0.09312912558300003\n",
      "running @  0.09113685691505737\n",
      "running @  0.08959399946253076\n",
      "running @  0.08836403437189726\n",
      "itteration number: 21022\n",
      "Training for dataset 2\n",
      "running @  0.14587823127566982\n",
      "running @  0.10806686563784396\n",
      "running @  0.09529312774726738\n",
      "running @  0.08921966590130825\n",
      "running @  0.08579716090774646\n",
      "running @  0.08365620335144083\n",
      "running @  0.08221655320947295\n",
      "itteration number: 15100\n",
      "Training for dataset 3\n",
      "running @  0.07502470883531316\n",
      "running @  0.06274543012901616\n",
      "running @  0.0592151080797346\n",
      "running @  0.05765473950713492\n",
      "itteration number: 8344\n"
     ]
    }
   ],
   "source": [
    "itterations = 10000000   #random big value \n",
    "alpha = 0.160 \n",
    "m = 1600\n",
    "cost_values = []\n",
    "trained_parameters = []\n",
    "for trainsets in range(4):  \n",
    "    X = datadict['D'+str(trainsets)][0] \n",
    "    y = datadict['D'+str(trainsets)][1]\n",
    "    weights = np.random.randn(1,9)\n",
    "    bias = 0 \n",
    "    costfunc_values = []\n",
    "    k = 0\n",
    "    print('Training for dataset '+str(trainsets))\n",
    "    for i in range(1,itterations+1):\n",
    "        #logistic function\n",
    "        z = np.dot(weights,X) + bias  \n",
    "        hypothesis=sigmoid(z)\n",
    "        \n",
    "        #cost function\n",
    "        j = 1/m*(-1*(np.sum(y*np.log(hypothesis) + (1-y)*np.log(1-hypothesis))))\n",
    "        costfunc_values.append(j)\n",
    "        k+=1\n",
    "\n",
    "        #gradient decent\n",
    "        dw =  1/m * np.dot(hypothesis-y,X.T)\n",
    "        db =  1/m * np.sum(hypothesis-y)\n",
    "        weights = weights - alpha*dw\n",
    "        bias = bias - alpha*db\n",
    "\n",
    "        #stop training\n",
    "        if i%2000 == 0:\n",
    "            print('running @ ',j)\n",
    "        if i%2 == 0:\n",
    "            if abs(j-costfunc_values[-2])<0.000001:\n",
    "                if abs(j-costfunc_values[-3])<0.000001:\n",
    "                    break \n",
    "    cost_values.append(costfunc_values)  \n",
    "    trained_parameters.append([weights,bias])      \n",
    "    print('itteration number:',k)\n"
   ]
  },
  {
   "cell_type": "markdown",
   "id": "e4d6f626",
   "metadata": {},
   "source": [
    "##  accuracy for each classifier"
   ]
  },
  {
   "cell_type": "code",
   "execution_count": 26,
   "id": "19f20409",
   "metadata": {},
   "outputs": [
    {
     "name": "stdout",
     "output_type": "stream",
     "text": [
      "accuracy for dataset 0  =  98.75\n",
      "accuracy for dataset 1  =  98.0\n",
      "accuracy for dataset 2  =  98.625\n",
      "accuracy for dataset 3  =  98.6875\n"
     ]
    }
   ],
   "source": [
    "for datasetnum in range(4):\n",
    "    X = datadict['D'+str(datasetnum)][0]\n",
    "    y = datadict['D'+str(datasetnum)][1]\n",
    "    weights = trained_parameters[datasetnum][0]\n",
    "    bias = trained_parameters[datasetnum][1]\n",
    "    correct_predictions = 0 \n",
    "    for i in range(1600):\n",
    "        z = np.dot(weights,X.T.iloc[i,:])+bias\n",
    "        hypothesis = sigmoid(z)\n",
    "        if np.logical_and(hypothesis >= 0.5,y.T[i,0] == 1):\n",
    "            correct_predictions+=1\n",
    "        if np.logical_and(hypothesis < 0.5,y.T[i,0] == 0):\n",
    "            correct_predictions+=1          \n",
    "    acc = (correct_predictions/1600)*100\n",
    "    print('accuracy for dataset '+str(datasetnum),\" = \",acc)"
   ]
  },
  {
   "cell_type": "markdown",
   "id": "cc072b70",
   "metadata": {},
   "source": [
    "## 1-VS-All classfier prediction accuracy "
   ]
  },
  {
   "cell_type": "code",
   "execution_count": 27,
   "id": "cb9a3546",
   "metadata": {},
   "outputs": [
    {
     "name": "stdout",
     "output_type": "stream",
     "text": [
      "97.75\n"
     ]
    }
   ],
   "source": [
    "inputs = data.iloc[:,:9]\n",
    "inputs = inputs.T\n",
    "outputs = data.iloc[:,-1] \n",
    "outputs = np.array(outputs)\n",
    "accuratepredicts = 0                \n",
    "for i in range(1600):\n",
    "    probabilities = []\n",
    "    for j in range(4):\n",
    "        weights = trained_parameters[j][0]\n",
    "        bias = trained_parameters[j][1]\n",
    "        z = np.dot(weights,inputs.iloc[:,i].T)+bias\n",
    "        hypothesis = sigmoid(z) \n",
    "        probabilities.append(hypothesis)\n",
    "    predict = probabilities.index(max(probabilities)) \n",
    "    if outputs.T[i] == predict:\n",
    "        accuratepredicts+=1\n",
    "print((accuratepredicts/1600)*100)"
   ]
  }
 ],
 "metadata": {
  "kernelspec": {
   "display_name": "Python 3",
   "language": "python",
   "name": "python3"
  },
  "language_info": {
   "codemirror_mode": {
    "name": "ipython",
    "version": 3
   },
   "file_extension": ".py",
   "mimetype": "text/x-python",
   "name": "python",
   "nbconvert_exporter": "python",
   "pygments_lexer": "ipython3",
   "version": "3.8.10"
  }
 },
 "nbformat": 4,
 "nbformat_minor": 5
}
